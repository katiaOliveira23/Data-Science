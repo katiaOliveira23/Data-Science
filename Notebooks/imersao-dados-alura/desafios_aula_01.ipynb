{
 "cells": [
  {
   "cell_type": "markdown",
   "metadata": {},
   "source": [
    "# Projeto de Análise de Dados referente ao ENEM 2019\n",
    "### Este projeto foi desenvolvido durante a 2ª Edição da Imersão de Dados promovido pela Alura"
   ]
  },
  {
   "cell_type": "code",
   "execution_count": 1,
   "metadata": {},
   "outputs": [],
   "source": [
    "#importando os pacotes\n",
    "import pandas as pd\n",
    "import matplotlib.pyplot as plt\n",
    "import colorsys\n",
    "plt.style.use('seaborn-deep')\n",
    "import warnings\n",
    "warnings.filterwarnings(\"ignore\")\n",
    "%matplotlib inline"
   ]
  },
  {
   "cell_type": "code",
   "execution_count": 2,
   "metadata": {},
   "outputs": [],
   "source": [
    "#importando os dados \n",
    "dados = pd.read_csv('dataset.csv')"
   ]
  },
  {
   "cell_type": "code",
   "execution_count": 3,
   "metadata": {},
   "outputs": [
    {
     "data": {
      "text/plain": [
       "(127380, 136)"
      ]
     },
     "execution_count": 3,
     "metadata": {},
     "output_type": "execute_result"
    }
   ],
   "source": [
    "#retorna a quantidade de linhas e colunas da amostra\n",
    "dados.shape"
   ]
  },
  {
   "cell_type": "code",
   "execution_count": 4,
   "metadata": {},
   "outputs": [
    {
     "data": {
      "text/html": [
       "<div>\n",
       "<style scoped>\n",
       "    .dataframe tbody tr th:only-of-type {\n",
       "        vertical-align: middle;\n",
       "    }\n",
       "\n",
       "    .dataframe tbody tr th {\n",
       "        vertical-align: top;\n",
       "    }\n",
       "\n",
       "    .dataframe thead th {\n",
       "        text-align: right;\n",
       "    }\n",
       "</style>\n",
       "<table border=\"1\" class=\"dataframe\">\n",
       "  <thead>\n",
       "    <tr style=\"text-align: right;\">\n",
       "      <th></th>\n",
       "      <th>NU_INSCRICAO</th>\n",
       "      <th>NU_ANO</th>\n",
       "      <th>CO_MUNICIPIO_RESIDENCIA</th>\n",
       "      <th>CO_UF_RESIDENCIA</th>\n",
       "      <th>NU_IDADE</th>\n",
       "      <th>TP_ESTADO_CIVIL</th>\n",
       "      <th>TP_COR_RACA</th>\n",
       "      <th>TP_NACIONALIDADE</th>\n",
       "      <th>CO_MUNICIPIO_NASCIMENTO</th>\n",
       "      <th>CO_UF_NASCIMENTO</th>\n",
       "      <th>...</th>\n",
       "      <th>NU_NOTA_MT</th>\n",
       "      <th>TP_LINGUA</th>\n",
       "      <th>TP_STATUS_REDACAO</th>\n",
       "      <th>NU_NOTA_COMP1</th>\n",
       "      <th>NU_NOTA_COMP2</th>\n",
       "      <th>NU_NOTA_COMP3</th>\n",
       "      <th>NU_NOTA_COMP4</th>\n",
       "      <th>NU_NOTA_COMP5</th>\n",
       "      <th>NU_NOTA_REDACAO</th>\n",
       "      <th>Q005</th>\n",
       "    </tr>\n",
       "  </thead>\n",
       "  <tbody>\n",
       "    <tr>\n",
       "      <th>count</th>\n",
       "      <td>1.273800e+05</td>\n",
       "      <td>127380.0</td>\n",
       "      <td>1.273800e+05</td>\n",
       "      <td>127380.000000</td>\n",
       "      <td>127380.000000</td>\n",
       "      <td>127380.000000</td>\n",
       "      <td>127380.000000</td>\n",
       "      <td>127380.000000</td>\n",
       "      <td>1.237570e+05</td>\n",
       "      <td>123757.000000</td>\n",
       "      <td>...</td>\n",
       "      <td>92758.000000</td>\n",
       "      <td>127380.000000</td>\n",
       "      <td>98043.000000</td>\n",
       "      <td>98043.000000</td>\n",
       "      <td>98043.000000</td>\n",
       "      <td>98043.000000</td>\n",
       "      <td>98043.000000</td>\n",
       "      <td>98043.000000</td>\n",
       "      <td>98043.000000</td>\n",
       "      <td>127380.000000</td>\n",
       "    </tr>\n",
       "    <tr>\n",
       "      <th>mean</th>\n",
       "      <td>1.900035e+11</td>\n",
       "      <td>2019.0</td>\n",
       "      <td>3.086067e+06</td>\n",
       "      <td>30.709389</td>\n",
       "      <td>22.094355</td>\n",
       "      <td>1.076841</td>\n",
       "      <td>2.131198</td>\n",
       "      <td>1.029345</td>\n",
       "      <td>3.058310e+06</td>\n",
       "      <td>30.431103</td>\n",
       "      <td>...</td>\n",
       "      <td>523.555206</td>\n",
       "      <td>0.524486</td>\n",
       "      <td>1.136155</td>\n",
       "      <td>120.554859</td>\n",
       "      <td>122.912396</td>\n",
       "      <td>114.901013</td>\n",
       "      <td>121.682323</td>\n",
       "      <td>91.519435</td>\n",
       "      <td>571.570025</td>\n",
       "      <td>3.864068</td>\n",
       "    </tr>\n",
       "    <tr>\n",
       "      <th>std</th>\n",
       "      <td>1.469535e+06</td>\n",
       "      <td>0.0</td>\n",
       "      <td>9.961399e+05</td>\n",
       "      <td>9.931060</td>\n",
       "      <td>7.498707</td>\n",
       "      <td>0.440671</td>\n",
       "      <td>1.017373</td>\n",
       "      <td>0.202790</td>\n",
       "      <td>9.827584e+05</td>\n",
       "      <td>9.793934</td>\n",
       "      <td>...</td>\n",
       "      <td>109.416939</td>\n",
       "      <td>0.499402</td>\n",
       "      <td>0.777411</td>\n",
       "      <td>33.250346</td>\n",
       "      <td>42.786693</td>\n",
       "      <td>40.030347</td>\n",
       "      <td>37.953250</td>\n",
       "      <td>59.380566</td>\n",
       "      <td>188.076455</td>\n",
       "      <td>1.475714</td>\n",
       "    </tr>\n",
       "    <tr>\n",
       "      <th>min</th>\n",
       "      <td>1.900010e+11</td>\n",
       "      <td>2019.0</td>\n",
       "      <td>1.100015e+06</td>\n",
       "      <td>11.000000</td>\n",
       "      <td>13.000000</td>\n",
       "      <td>0.000000</td>\n",
       "      <td>0.000000</td>\n",
       "      <td>0.000000</td>\n",
       "      <td>1.100015e+06</td>\n",
       "      <td>11.000000</td>\n",
       "      <td>...</td>\n",
       "      <td>0.000000</td>\n",
       "      <td>0.000000</td>\n",
       "      <td>1.000000</td>\n",
       "      <td>0.000000</td>\n",
       "      <td>0.000000</td>\n",
       "      <td>0.000000</td>\n",
       "      <td>0.000000</td>\n",
       "      <td>0.000000</td>\n",
       "      <td>0.000000</td>\n",
       "      <td>1.000000</td>\n",
       "    </tr>\n",
       "    <tr>\n",
       "      <th>25%</th>\n",
       "      <td>1.900023e+11</td>\n",
       "      <td>2019.0</td>\n",
       "      <td>2.405776e+06</td>\n",
       "      <td>24.000000</td>\n",
       "      <td>18.000000</td>\n",
       "      <td>1.000000</td>\n",
       "      <td>1.000000</td>\n",
       "      <td>1.000000</td>\n",
       "      <td>2.313955e+06</td>\n",
       "      <td>23.000000</td>\n",
       "      <td>...</td>\n",
       "      <td>435.300000</td>\n",
       "      <td>0.000000</td>\n",
       "      <td>1.000000</td>\n",
       "      <td>120.000000</td>\n",
       "      <td>120.000000</td>\n",
       "      <td>100.000000</td>\n",
       "      <td>100.000000</td>\n",
       "      <td>40.000000</td>\n",
       "      <td>480.000000</td>\n",
       "      <td>3.000000</td>\n",
       "    </tr>\n",
       "    <tr>\n",
       "      <th>50%</th>\n",
       "      <td>1.900035e+11</td>\n",
       "      <td>2019.0</td>\n",
       "      <td>3.123779e+06</td>\n",
       "      <td>31.000000</td>\n",
       "      <td>19.000000</td>\n",
       "      <td>1.000000</td>\n",
       "      <td>2.000000</td>\n",
       "      <td>1.000000</td>\n",
       "      <td>3.109402e+06</td>\n",
       "      <td>31.000000</td>\n",
       "      <td>...</td>\n",
       "      <td>501.600000</td>\n",
       "      <td>1.000000</td>\n",
       "      <td>1.000000</td>\n",
       "      <td>120.000000</td>\n",
       "      <td>120.000000</td>\n",
       "      <td>120.000000</td>\n",
       "      <td>120.000000</td>\n",
       "      <td>100.000000</td>\n",
       "      <td>580.000000</td>\n",
       "      <td>4.000000</td>\n",
       "    </tr>\n",
       "    <tr>\n",
       "      <th>75%</th>\n",
       "      <td>1.900048e+11</td>\n",
       "      <td>2019.0</td>\n",
       "      <td>3.549904e+06</td>\n",
       "      <td>35.000000</td>\n",
       "      <td>24.000000</td>\n",
       "      <td>1.000000</td>\n",
       "      <td>3.000000</td>\n",
       "      <td>1.000000</td>\n",
       "      <td>3.548708e+06</td>\n",
       "      <td>35.000000</td>\n",
       "      <td>...</td>\n",
       "      <td>598.200000</td>\n",
       "      <td>1.000000</td>\n",
       "      <td>1.000000</td>\n",
       "      <td>140.000000</td>\n",
       "      <td>140.000000</td>\n",
       "      <td>140.000000</td>\n",
       "      <td>140.000000</td>\n",
       "      <td>140.000000</td>\n",
       "      <td>680.000000</td>\n",
       "      <td>5.000000</td>\n",
       "    </tr>\n",
       "    <tr>\n",
       "      <th>max</th>\n",
       "      <td>1.900061e+11</td>\n",
       "      <td>2019.0</td>\n",
       "      <td>5.300108e+06</td>\n",
       "      <td>53.000000</td>\n",
       "      <td>82.000000</td>\n",
       "      <td>4.000000</td>\n",
       "      <td>5.000000</td>\n",
       "      <td>4.000000</td>\n",
       "      <td>5.300108e+06</td>\n",
       "      <td>53.000000</td>\n",
       "      <td>...</td>\n",
       "      <td>985.000000</td>\n",
       "      <td>1.000000</td>\n",
       "      <td>9.000000</td>\n",
       "      <td>200.000000</td>\n",
       "      <td>200.000000</td>\n",
       "      <td>200.000000</td>\n",
       "      <td>200.000000</td>\n",
       "      <td>200.000000</td>\n",
       "      <td>1000.000000</td>\n",
       "      <td>20.000000</td>\n",
       "    </tr>\n",
       "  </tbody>\n",
       "</table>\n",
       "<p>8 rows × 95 columns</p>\n",
       "</div>"
      ],
      "text/plain": [
       "       NU_INSCRICAO    NU_ANO  CO_MUNICIPIO_RESIDENCIA  CO_UF_RESIDENCIA  \\\n",
       "count  1.273800e+05  127380.0             1.273800e+05     127380.000000   \n",
       "mean   1.900035e+11    2019.0             3.086067e+06         30.709389   \n",
       "std    1.469535e+06       0.0             9.961399e+05          9.931060   \n",
       "min    1.900010e+11    2019.0             1.100015e+06         11.000000   \n",
       "25%    1.900023e+11    2019.0             2.405776e+06         24.000000   \n",
       "50%    1.900035e+11    2019.0             3.123779e+06         31.000000   \n",
       "75%    1.900048e+11    2019.0             3.549904e+06         35.000000   \n",
       "max    1.900061e+11    2019.0             5.300108e+06         53.000000   \n",
       "\n",
       "            NU_IDADE  TP_ESTADO_CIVIL    TP_COR_RACA  TP_NACIONALIDADE  \\\n",
       "count  127380.000000    127380.000000  127380.000000     127380.000000   \n",
       "mean       22.094355         1.076841       2.131198          1.029345   \n",
       "std         7.498707         0.440671       1.017373          0.202790   \n",
       "min        13.000000         0.000000       0.000000          0.000000   \n",
       "25%        18.000000         1.000000       1.000000          1.000000   \n",
       "50%        19.000000         1.000000       2.000000          1.000000   \n",
       "75%        24.000000         1.000000       3.000000          1.000000   \n",
       "max        82.000000         4.000000       5.000000          4.000000   \n",
       "\n",
       "       CO_MUNICIPIO_NASCIMENTO  CO_UF_NASCIMENTO  ...    NU_NOTA_MT  \\\n",
       "count             1.237570e+05     123757.000000  ...  92758.000000   \n",
       "mean              3.058310e+06         30.431103  ...    523.555206   \n",
       "std               9.827584e+05          9.793934  ...    109.416939   \n",
       "min               1.100015e+06         11.000000  ...      0.000000   \n",
       "25%               2.313955e+06         23.000000  ...    435.300000   \n",
       "50%               3.109402e+06         31.000000  ...    501.600000   \n",
       "75%               3.548708e+06         35.000000  ...    598.200000   \n",
       "max               5.300108e+06         53.000000  ...    985.000000   \n",
       "\n",
       "           TP_LINGUA  TP_STATUS_REDACAO  NU_NOTA_COMP1  NU_NOTA_COMP2  \\\n",
       "count  127380.000000       98043.000000   98043.000000   98043.000000   \n",
       "mean        0.524486           1.136155     120.554859     122.912396   \n",
       "std         0.499402           0.777411      33.250346      42.786693   \n",
       "min         0.000000           1.000000       0.000000       0.000000   \n",
       "25%         0.000000           1.000000     120.000000     120.000000   \n",
       "50%         1.000000           1.000000     120.000000     120.000000   \n",
       "75%         1.000000           1.000000     140.000000     140.000000   \n",
       "max         1.000000           9.000000     200.000000     200.000000   \n",
       "\n",
       "       NU_NOTA_COMP3  NU_NOTA_COMP4  NU_NOTA_COMP5  NU_NOTA_REDACAO  \\\n",
       "count   98043.000000   98043.000000   98043.000000     98043.000000   \n",
       "mean      114.901013     121.682323      91.519435       571.570025   \n",
       "std        40.030347      37.953250      59.380566       188.076455   \n",
       "min         0.000000       0.000000       0.000000         0.000000   \n",
       "25%       100.000000     100.000000      40.000000       480.000000   \n",
       "50%       120.000000     120.000000     100.000000       580.000000   \n",
       "75%       140.000000     140.000000     140.000000       680.000000   \n",
       "max       200.000000     200.000000     200.000000      1000.000000   \n",
       "\n",
       "                Q005  \n",
       "count  127380.000000  \n",
       "mean        3.864068  \n",
       "std         1.475714  \n",
       "min         1.000000  \n",
       "25%         3.000000  \n",
       "50%         4.000000  \n",
       "75%         5.000000  \n",
       "max        20.000000  \n",
       "\n",
       "[8 rows x 95 columns]"
      ]
     },
     "execution_count": 4,
     "metadata": {},
     "output_type": "execute_result"
    }
   ],
   "source": [
    "#retorna uma resumo dos dados coletados\n",
    "dados.describe()"
   ]
  },
  {
   "cell_type": "markdown",
   "metadata": {},
   "source": [
    "## Desafio 1: Proporção dos inscritos por idade"
   ]
  },
  {
   "cell_type": "code",
   "execution_count": 5,
   "metadata": {},
   "outputs": [
    {
     "data": {
      "text/plain": [
       "13     0.003140\n",
       "14     0.110692\n",
       "15     1.577171\n",
       "16     6.146962\n",
       "17    16.687078\n",
       "        ...    \n",
       "73     0.001570\n",
       "75     0.001570\n",
       "76     0.000785\n",
       "77     0.000785\n",
       "82     0.000785\n",
       "Name: NU_IDADE, Length: 65, dtype: float64"
      ]
     },
     "execution_count": 5,
     "metadata": {},
     "output_type": "execute_result"
    }
   ],
   "source": [
    "#retorna o total de inscritos\n",
    "total = len(dados.NU_INSCRICAO.value_counts())\n",
    "\n",
    "#calcula a porcentagem de inscritos por idade\n",
    "dados.NU_IDADE.value_counts().sort_index()/total*100\n"
   ]
  },
  {
   "cell_type": "markdown",
   "metadata": {},
   "source": [
    "## Desafio 2: Descobrir de quais estados são os inscritos com 13 anos"
   ]
  },
  {
   "cell_type": "code",
   "execution_count": 6,
   "metadata": {},
   "outputs": [
    {
     "data": {
      "text/plain": [
       "SP    1\n",
       "MT    1\n",
       "AP    1\n",
       "BA    1\n",
       "Name: SG_UF_RESIDENCIA, dtype: int64"
      ]
     },
     "execution_count": 6,
     "metadata": {},
     "output_type": "execute_result"
    }
   ],
   "source": [
    "#retorna a quantidade de inscritos com 13 anos\n",
    "inscritos = dados.query('NU_IDADE == 13')\n",
    "#retorna a quantidade de inscritos de 13 anos separados por estado de residência\n",
    "inscritos['SG_UF_RESIDENCIA'].value_counts()"
   ]
  },
  {
   "cell_type": "markdown",
   "metadata": {},
   "source": [
    "## Desafio 3: Adicionar título no gráfico"
   ]
  },
  {
   "cell_type": "code",
   "execution_count": 7,
   "metadata": {},
   "outputs": [
    {
     "data": {
      "text/plain": [
       "Text(0.5, 1.0, 'Distribuição de inscritos por idade')"
      ]
     },
     "execution_count": 7,
     "metadata": {},
     "output_type": "execute_result"
    },
    {
     "data": {
      "image/png": "[encoded data removed]",
      "text/plain": [
       "<Figure size 432x288 with 1 Axes>"
      ]
     },
     "metadata": {
      "needs_background": "light"
     },
     "output_type": "display_data"
    }
   ],
   "source": [
    "#histograma referente a distribuição de idade dos inscritos\n",
    "dados['NU_IDADE'].hist(bins = 60)\n",
    "plt.xlabel('Idade')\n",
    "plt.ylabel('Número de Inscritos')\n",
    "plt.title(\"Distribuição de inscritos por idade\")\n"
   ]
  },
  {
   "cell_type": "markdown",
   "metadata": {},
   "source": [
    "## Desafio 4: Plotar os histogramas das idades dos treineiros e não treineiros"
   ]
  },
  {
   "cell_type": "code",
   "execution_count": 8,
   "metadata": {},
   "outputs": [
    {
     "data": {
      "text/plain": [
       "Text(0.5, 1.0, 'Distribuição por idade  dos inscritos como treineiros ')"
      ]
     },
     "execution_count": 8,
     "metadata": {},
     "output_type": "execute_result"
    },
    {
     "data": {
      "image/png": "[encoded data removed]",
      "text/plain": [
       "<Figure size 432x288 with 1 Axes>"
      ]
     },
     "metadata": {
      "needs_background": "light"
     },
     "output_type": "display_data"
    }
   ],
   "source": [
    "# retorna os candidados inscritos como treineiros\n",
    "treineiros = dados.query('IN_TREINEIRO == 1')\n",
    "treineiros['NU_IDADE'].hist(bins = 60)\n",
    "plt.xlabel('Idade')\n",
    "plt.ylabel('Número de Inscritos')\n",
    "plt.title(\"Distribuição por idade  dos inscritos como treineiros \")\n"
   ]
  },
  {
   "cell_type": "code",
   "execution_count": 9,
   "metadata": {},
   "outputs": [
    {
     "data": {
      "text/plain": [
       "Text(0.5, 1.0, 'Distribuição por idade  dos inscritos como não treineiros ')"
      ]
     },
     "execution_count": 9,
     "metadata": {},
     "output_type": "execute_result"
    },
    {
     "data": {
      "image/png": "[encoded data removed]",
      "text/plain": [
       "<Figure size 432x288 with 1 Axes>"
      ]
     },
     "metadata": {
      "needs_background": "light"
     },
     "output_type": "display_data"
    }
   ],
   "source": [
    "# retorna os candidados inscritos como  não treineiros\n",
    "n_treineiros = dados.query('IN_TREINEIRO == 0')\n",
    "n_treineiros['NU_IDADE'].hist(bins = 60)\n",
    "plt.xlabel('Idade')\n",
    "plt.ylabel('Número de Inscritos')\n",
    "plt.title(\"Distribuição por idade  dos inscritos como não treineiros \")"
   ]
  },
  {
   "cell_type": "code",
   "execution_count": 10,
   "metadata": {},
   "outputs": [
    {
     "data": {
      "image/png": "[encoded data removed]",
      "text/plain": [
       "<Figure size 432x288 with 1 Axes>"
      ]
     },
     "metadata": {
      "needs_background": "light"
     },
     "output_type": "display_data"
    }
   ],
   "source": [
    "# definição das labels\n",
    "l=['Treineiros', 'Não treineiros']\n",
    "#definição das cores\n",
    "c=['blue','red']\n",
    "\n",
    "plt.hist([treineiros['NU_IDADE'],n_treineiros['NU_IDADE']], bins = 60,  label = l, color = c)\n",
    "plt.legend(loc='upper right')\n",
    "plt.grid(True)\n",
    "plt.xlabel('Idade')\n",
    "plt.ylabel('Número de Inscritos')\n",
    "plt.title(\"Comparação da distribuição das idades entre treineiros e não treineiros\")\n",
    "plt.show()\n",
    "\n"
   ]
  },
  {
   "cell_type": "markdown",
   "metadata": {},
   "source": [
    "## Desafio 5: Comparar as distribuições das provas em inglês e espanhol"
   ]
  },
  {
   "cell_type": "code",
   "execution_count": 11,
   "metadata": {},
   "outputs": [
    {
     "data": {
      "text/plain": [
       "Text(0.5, 1.0, 'Espanhol')"
      ]
     },
     "execution_count": 11,
     "metadata": {},
     "output_type": "execute_result"
    },
    {
     "data": {
      "image/png": "[encoded data removed]",
      "text/plain": [
       "<Figure size 648x432 with 2 Axes>"
      ]
     },
     "metadata": {
      "needs_background": "light"
     },
     "output_type": "display_data"
    }
   ],
   "source": [
    "#retorna os inscritos que optaram pela prova de inglês\n",
    "ingles = dados.query('TP_LINGUA == 0')\n",
    "#retorna os inscritos que optaram pela prova de espanhol\n",
    "espanhol = dados.query('TP_LINGUA == 1')\n",
    "\n",
    "fig, (ax1, ax2) = plt.subplots(1, 2, sharey = (True), figsize=(9,6))\n",
    "ingles['NU_NOTA_LC'].plot.box(ax = ax1, grid=(True))\n",
    "espanhol['NU_NOTA_LC'].plot.box(ax = ax2, grid=(True))\n",
    "ax1.set_title('Inglês')\n",
    "ax2.set_title('Espanhol')\n",
    "\n"
   ]
  },
  {
   "cell_type": "markdown",
   "metadata": {},
   "source": [
    "## Desafio 6: Explorar a documentações e visualizações com matplotlib"
   ]
  },
  {
   "cell_type": "code",
   "execution_count": 12,
   "metadata": {},
   "outputs": [
    {
     "name": "stdout",
     "output_type": "stream",
     "text": [
      "Porcentagem de inscritos por sexo:\n",
      "Feminino 59.57 \n",
      "Maculino 40.43 \n"
     ]
    }
   ],
   "source": [
    "#retorna o total de inscritos\n",
    "total = len(dados.NU_INSCRICAO.value_counts())\n",
    "\n",
    "#proporção dos inscritos por sexo\n",
    "feminino = dados.query('TP_SEXO == \"F\"')\n",
    "masculino = dados.query('TP_SEXO == \"M\"')\n",
    "\n",
    "f = feminino['TP_SEXO'].value_counts()/total*100\n",
    "m = masculino['TP_SEXO'].value_counts()/total*100\n",
    "print(\"Porcentagem de inscritos por sexo:\")\n",
    "print (\"Feminino %.2f \" % f)\n",
    "print (\"Maculino %.2f \" % m)"
   ]
  },
  {
   "cell_type": "code",
   "execution_count": 13,
   "metadata": {},
   "outputs": [
    {
     "data": {
      "image/png": "[encoded data removed]",
      "text/plain": [
       "<Figure size 432x288 with 1 Axes>"
      ]
     },
     "metadata": {
      "needs_background": "light"
     },
     "output_type": "display_data"
    }
   ],
   "source": [
    "#representação gráfica dos inscritos por sexo\n",
    "dados.TP_SEXO.value_counts().plot(kind='bar')\n",
    "plt.title('Qauntidade de inscritos por sexo')\n",
    "plt.ylabel('Qauntidade de inscritos')\n",
    "plt.xlabel('Sexo')\n",
    "plt.show()"
   ]
  }
 ],
 "metadata": {
  "kernelspec": {
   "display_name": "Python 3",
   "language": "python",
   "name": "python3"
  },
  "language_info": {
   "codemirror_mode": {
    "name": "ipython",
    "version": 3
   },
   "file_extension": ".py",
   "mimetype": "text/x-python",
   "name": "python",
   "nbconvert_exporter": "python",
   "pygments_lexer": "ipython3",
   "version": "3.8.3"
  }
 },
 "nbformat": 4,
 "nbformat_minor": 4
}
